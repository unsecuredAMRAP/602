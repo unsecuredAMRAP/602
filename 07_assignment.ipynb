{
  "cells": [
    {
      "cell_type": "markdown",
      "metadata": {
        "id": "view-in-github",
        "colab_type": "text"
      },
      "source": [
        "<a href=\"https://colab.research.google.com/github/unsecuredAMRAP/602/blob/main/07_assignment.ipynb\" target=\"_parent\"><img src=\"https://colab.research.google.com/assets/colab-badge.svg\" alt=\"Open In Colab\"/></a>"
      ]
    },
    {
      "cell_type": "markdown",
      "metadata": {
        "id": "rd2QZetSDszc"
      },
      "source": [
        "# **Assignment 7**\n",
        "\n",
        "# **Weeks 8 & 9 - Pandas**\n",
        "* In this homework assignment, you will explore and analyze a public dataset of your choosing. Since this assignment is “open-ended” in nature, you are free to expand upon the requirements below. However, you must meet the minimum requirments as indicated in each section.\n",
        "\n",
        "* You must use Pandas as the **primary tool** to process your data.\n",
        "\n",
        "* The preferred method for this analysis is in a .ipynb file. Feel free to use whichever platform of your choosing.  \n",
        " * https://www.youtube.com/watch?v=inN8seMm7UI (Getting started with Colab).\n",
        "\n",
        "* Your data should need some \"work\", or be considered \"dirty\".  You must show your skills in data cleaning/wrangling.\n",
        "\n",
        "### **Some data examples:**\n",
        "•\thttps://www.data.gov/\n",
        "\n",
        "•\thttps://opendata.cityofnewyork.us/\n",
        "\n",
        "•\thttps://datasetsearch.research.google.com/\n",
        "\n",
        "•\thttps://archive.ics.uci.edu/ml/index.php\n",
        "\n",
        "### **Resources:**\n",
        "\n",
        "•\thttps://pandas.pydata.org/pandas-docs/stable/getting_started/10min.html\n",
        "\n",
        "•\thttps://pandas.pydata.org/pandas-docs/stable/user_guide/visualization.html\n",
        "\n",
        "\n",
        "### **Headings or comments**\n",
        "**You are required to make use of comments, or headings for each section.  You must explain what your code is doing, and the results of running your code.**  Act as if you were giving this assignment to your manager - you must include clear and descriptive information for each section.\n",
        "\n",
        "### **You may work as a group or indivdually on this assignment.**\n"
      ]
    },
    {
      "cell_type": "markdown",
      "metadata": {
        "id": "uW3w6p8rqgxu"
      },
      "source": [
        "# Introduction\n",
        "\n",
        "In this section, please describe the dataset you are using.  Include a link to the source of this data.  You should also provide some explanation on why you choose this dataset."
      ]
    },
    {
      "cell_type": "markdown",
      "metadata": {
        "id": "L0PnfMOFzOXz"
      },
      "source": []
    },
    {
      "cell_type": "markdown",
      "metadata": {
        "id": "3bp8cdDxDs2t"
      },
      "source": [
        "______________\n",
        "# Data Exploration\n",
        "Import your dataset into your .ipynb, create dataframes, and explore your data.  \n",
        "\n",
        "Include:\n",
        "\n",
        "* Summary statistics means, medians, quartiles,\n",
        "* Missing value information\n",
        "* Any other relevant information about the dataset.  \n",
        "\n"
      ]
    },
    {
      "cell_type": "code",
      "execution_count": null,
      "metadata": {
        "id": "1OJmbafkEhhq"
      },
      "outputs": [],
      "source": [
        "# import csv data set\n",
        "\n",
        "# Import necessary libraries\n",
        "import pandas as pd\n",
        "import numpy as np\n",
        "\n",
        "csv_path = \"https://github.com/unsecuredAMRAP/602/releases/download/dbs/RePORTER_PRJ_C_FY2023.csv\"\n",
        "\n",
        "# CSV file into a Pandas DataFrame\n",
        "df = pd.read_csv(csv_path)"
      ]
    },
    {
      "cell_type": "code",
      "source": [
        "# Explore the data\n",
        "print(df.head())  # first few rows"
      ],
      "metadata": {
        "colab": {
          "base_uri": "https://localhost:8080/"
        },
        "id": "lOWKDdGNXIqS",
        "outputId": "83e4960c-9214-4e87-99d9-cdb1622970d6"
      },
      "execution_count": 3,
      "outputs": [
        {
          "output_type": "stream",
          "name": "stdout",
          "text": [
            "   APPLICATION_ID ACTIVITY ADMINISTERING_IC  APPLICATION_TYPE ARRA_FUNDED  \\\n",
            "0         8530931      I50               VA               1.0           N   \n",
            "1         9075408      I50               VA               5.0           N   \n",
            "2         9701510      R01               DK               7.0           N   \n",
            "3         9722309      R01               MH               5.0           N   \n",
            "4        10003845      R01               FD               5.0           N   \n",
            "\n",
            "  AWARD_NOTICE_DATE BUDGET_START  BUDGET_END  CFDA_CODE CORE_PROJECT_NUM  ...  \\\n",
            "0        2023-08-28   2012-10-01  2013-09-30      999.0      I50HX001175  ...   \n",
            "1        2023-09-06   2015-10-01  2016-09-30      999.0      I50HX001676  ...   \n",
            "2        2023-04-18   2023-01-01  2024-12-31      847.0      R01DK056123  ...   \n",
            "3        2023-05-16   2023-05-01  2024-04-30      242.0      R01MH115504  ...   \n",
            "4        2023-08-29   2023-09-01  2024-08-31      103.0      R01FD006106  ...   \n",
            "\n",
            "  SERIAL_NUMBER STUDY_SECTION  \\\n",
            "0          1175           HQ4   \n",
            "1          1676           HQ4   \n",
            "2         56123           MCE   \n",
            "3        115504          ZRG1   \n",
            "4          6106          ZFD1   \n",
            "\n",
            "                                  STUDY_SECTION_NAME SUBPROJECT_ID SUFFIX  \\\n",
            "0                  HQ4 QUERI RRP Review Panel 3[HQ4]           NaN    NaN   \n",
            "1                  HQ4 QUERI RRP Review Panel 3[HQ4]           NaN    NaN   \n",
            "2  Molecular and Cellular Endocrinology Study Sec...           NaN    NaN   \n",
            "3            Special Emphasis Panel[ZRG1-BDA-A(50)R]           NaN    NaN   \n",
            "4                                       ZFD1-SRC(99)           NaN    NaN   \n",
            "\n",
            "   SUPPORT_YEAR DIRECT_COST_AMT  INDIRECT_COST_AMT TOTAL_COST  \\\n",
            "0           1.0             NaN                NaN        NaN   \n",
            "1           2.0             NaN                NaN        NaN   \n",
            "2          22.0        406000.0           263900.0   669900.0   \n",
            "3           3.0        442857.0             6237.0   449094.0   \n",
            "4           3.0        339012.0           128763.0   467775.0   \n",
            "\n",
            "  TOTAL_COST_SUB_PROJECT  \n",
            "0                    NaN  \n",
            "1                    NaN  \n",
            "2                    NaN  \n",
            "3                    NaN  \n",
            "4                    NaN  \n",
            "\n",
            "[5 rows x 46 columns]\n"
          ]
        }
      ]
    },
    {
      "cell_type": "code",
      "execution_count": 2,
      "metadata": {
        "id": "b0WTKtqozNn1",
        "colab": {
          "base_uri": "https://localhost:8080/"
        },
        "outputId": "25aece13-9bb7-4ed8-9cf7-f05c3d204155"
      },
      "outputs": [
        {
          "output_type": "stream",
          "name": "stdout",
          "text": [
            "Continuous Variables Summary:\n",
            "       DIRECT_COST_AMT  INDIRECT_COST_AMT    TOTAL_COST\n",
            "count     7.731400e+04       7.731100e+04  7.118100e+04\n",
            "mean      3.971353e+05       1.414550e+05  6.251905e+05\n",
            "std       1.796170e+06       2.487798e+05  2.870870e+06\n",
            "min      -4.455900e+04       0.000000e+00  0.000000e+00\n",
            "25%       1.441632e+05       2.794350e+04  1.937500e+05\n",
            "50%       2.500000e+05       1.096230e+05  3.997500e+05\n",
            "75%       4.145800e+05       1.792630e+05  6.319320e+05\n",
            "max       4.172015e+08       1.462945e+07  4.172015e+08\n",
            "Categorical Variables Summary:\n",
            "       ACTIVITY STUDY_SECTION                       STUDY_SECTION_NAME\n",
            "count     84548         77801                                    77801\n",
            "unique      154           416                                     5691\n",
            "top         R01          ZRG1  Cancer Centers Study Section (A)[NCI-A]\n",
            "freq      30272         16553                                     1327\n"
          ]
        }
      ],
      "source": [
        "# summary statistics\n",
        "categorical_vars = ['ACTIVITY', 'STUDY_SECTION', 'STUDY_SECTION_NAME']\n",
        "continuous_vars = ['DIRECT_COST_AMT', 'INDIRECT_COST_AMT', 'TOTAL_COST']\n",
        "\n",
        "continuous_summary = df[continuous_vars].describe()\n",
        "print(\"Continuous Variables Summary:\")\n",
        "print(continuous_summary)\n",
        "\n",
        "categorical_summary = df[categorical_vars].describe()\n",
        "print(\"Categorical Variables Summary:\")\n",
        "print(categorical_summary)"
      ]
    },
    {
      "cell_type": "markdown",
      "metadata": {
        "id": "kCSLIafaEGVK"
      },
      "source": [
        "# Data Wrangling\n",
        "Create a subset of your original data and perform the following.  \n",
        "\n",
        "1. Modify multiple column names.\n",
        "\n",
        "2. Look at the structure of your data – are any variables improperly coded? Such as strings or characters? Convert to correct structure if needed.\n",
        "\n",
        "3. Fix missing and invalid values in data.\n",
        "\n",
        "4. Create new columns based on existing columns or calculations.\n",
        "\n",
        "5. Drop column(s) from your dataset.\n",
        "\n",
        "6. Drop a row(s) from your dataset.\n",
        "\n",
        "7. Sort your data based on multiple variables.\n",
        "\n",
        "8. Filter your data based on some condition.\n",
        "\n",
        "9. Convert all the string values to upper or lower cases in one column.\n",
        "\n",
        "10. Check whether numeric values are present in a given column of your dataframe.\n",
        "\n",
        "11. Group your dataset by one column, and get the mean, min, and max values by group.\n",
        "  * Groupby()\n",
        "  * agg() or .apply()\n",
        "\n",
        "12. Group your dataset by two columns and then sort the aggregated results within the groups.\n",
        "\n",
        "**You are free (and should) to add on to these questions.  Please clearly indicate in your assignment your answers to these questions.**"
      ]
    },
    {
      "cell_type": "code",
      "execution_count": 9,
      "metadata": {
        "id": "4VWWvvynEiQT"
      },
      "outputs": [],
      "source": [
        "# 1 creating a subset with a few of the variables\n",
        "subset_vars = ['ACTIVITY', 'STUDY_SECTION', 'STUDY_SECTION_NAME', 'DIRECT_COST_AMT', 'INDIRECT_COST_AMT', 'TOTAL_COST', 'APPLICATION_ID', 'ORG_CITY', 'ORG_COUNTRY', 'FUNDING_MECHANISM', 'FUNDING_ICs']\n",
        "df_subset = df[subset_vars].copy()\n",
        "\n",
        "# modify column names\n",
        "df_subset.rename(columns={'ORG_CITY': 'city', 'ORG_COUNTRY': 'country'}, inplace=True)\n"
      ]
    },
    {
      "cell_type": "code",
      "execution_count": 10,
      "metadata": {
        "id": "nATPKSaNXD9B",
        "colab": {
          "base_uri": "https://localhost:8080/"
        },
        "outputId": "f62233fd-77ee-4763-b205-8de102d9049e"
      },
      "outputs": [
        {
          "output_type": "stream",
          "name": "stdout",
          "text": [
            "ACTIVITY               object\n",
            "STUDY_SECTION          object\n",
            "STUDY_SECTION_NAME     object\n",
            "DIRECT_COST_AMT       float64\n",
            "INDIRECT_COST_AMT     float64\n",
            "TOTAL_COST            float64\n",
            "APPLICATION_ID          int64\n",
            "city                   object\n",
            "country                object\n",
            "FUNDING_MECHANISM      object\n",
            "FUNDING_ICs            object\n",
            "dtype: object\n"
          ]
        }
      ],
      "source": [
        "# 2 Checking data types for step 3\n",
        "print(df_subset.dtypes)\n",
        "\n",
        "# Convert numeric columns from string to float\n",
        "df_subset['DIRECT_COST_AMT'] = pd.to_numeric(df_subset['DIRECT_COST_AMT'], errors='coerce')\n",
        "df_subset['INDIRECT_COST_AMT'] = pd.to_numeric(df_subset['INDIRECT_COST_AMT'], errors='coerce')\n",
        "df_subset['TOTAL_COST'] = pd.to_numeric(df_subset['TOTAL_COST'], errors='coerce')\n",
        "\n"
      ]
    },
    {
      "cell_type": "markdown",
      "source": [
        "After checking data types, all seem to be appropriate. But just to be sure (especially if additional data is added to this dataset to update it for 2024 fiscal year, I have added lines to convert important continuous variables to numeric."
      ],
      "metadata": {
        "id": "TjHis1xii-dy"
      }
    },
    {
      "cell_type": "code",
      "source": [
        "# 3 Check for missing values\n",
        "print(df_subset.isnull().sum())"
      ],
      "metadata": {
        "colab": {
          "base_uri": "https://localhost:8080/"
        },
        "id": "9tU3Pf0fabhD",
        "outputId": "b45c4ccf-c6c3-4b2b-fbf6-65835643da71"
      },
      "execution_count": 7,
      "outputs": [
        {
          "output_type": "stream",
          "name": "stdout",
          "text": [
            "ACTIVITY                  0\n",
            "STUDY_SECTION          6747\n",
            "STUDY_SECTION_NAME     6747\n",
            "DIRECT_COST_AMT        7234\n",
            "INDIRECT_COST_AMT      7237\n",
            "TOTAL_COST            13367\n",
            "APPLICATION_ID            0\n",
            "city                   3185\n",
            "country                3185\n",
            "FUNDING_MECHANISM         0\n",
            "FUNDING_ICs            2191\n",
            "dtype: int64\n"
          ]
        }
      ]
    },
    {
      "cell_type": "markdown",
      "source": [
        "There are no missing values by Funding mechanism, activity, or ID (as would be expected), but there were many missing values for Total_cost as well as other important variables. Since this is the original dataset directly from the NIH, there is no better source to fill the missing values. Furthermore, I think these are missing because they do not exist in the first place (ie, certain award mechanisms may not contain the total cost and amounts). Therfore, the best approach is to remove those rows if my analysis focuses on the amounts themselves. (which is what I have done later below)."
      ],
      "metadata": {
        "id": "SV4scGFPjN0x"
      }
    },
    {
      "cell_type": "code",
      "source": [
        "# 4 new columns\n",
        "df_subset['sum'] = df_subset['DIRECT_COST_AMT'] + df_subset['INDIRECT_COST_AMT']"
      ],
      "metadata": {
        "id": "Kk8dq5JVa1yZ"
      },
      "execution_count": 11,
      "outputs": []
    },
    {
      "cell_type": "code",
      "source": [
        "# 5 drop columns\n",
        "df_subset.drop(['ACTIVITY', 'STUDY_SECTION'], axis=1, inplace=True)"
      ],
      "metadata": {
        "id": "29Ek41Jdbh78"
      },
      "execution_count": 12,
      "outputs": []
    },
    {
      "cell_type": "code",
      "source": [
        "# 6 drop rows where TOTAL_COST < 100,000\n",
        "df_subset = df_subset[df_subset['TOTAL_COST'] >= 100000]"
      ],
      "metadata": {
        "id": "eLBmfkZpbjxN"
      },
      "execution_count": 13,
      "outputs": []
    },
    {
      "cell_type": "code",
      "source": [
        "# 7 sort and filter the data\n",
        "# sort data by TOTAL_COST in descending order, then by DIRECT_COST_AMT in ascending order\n",
        "df_subset.sort_values(by=['TOTAL_COST', 'DIRECT_COST_AMT'], ascending=[False, True], inplace=True)\n"
      ],
      "metadata": {
        "id": "qg3w7mjHbjvH"
      },
      "execution_count": 14,
      "outputs": []
    },
    {
      "cell_type": "code",
      "source": [
        "# 8 filter data by country, keeping only rows where country is \"UNITED STATES\"\n",
        "df_subset = df_subset[df_subset['country'].str.upper() == 'UNITED STATES']\n"
      ],
      "metadata": {
        "id": "Dae8Wjn6bjsy"
      },
      "execution_count": 35,
      "outputs": []
    },
    {
      "cell_type": "code",
      "source": [
        "# 9 Convert String Values\n",
        "# convert all string values in the country column to lower case\n",
        "df_subset['country'] = df_subset['country'].str.lower()"
      ],
      "metadata": {
        "id": "6LrvhzHIbjqr"
      },
      "execution_count": 16,
      "outputs": []
    },
    {
      "cell_type": "code",
      "source": [
        "# 10 check for numeric values in STUDY_SECTION_NAME\n",
        "df_subset['STUDY_SECTION_NAME_has_numeric'] = df_subset['STUDY_SECTION_NAME'].str.contains(r'\\d', regex=True)\n"
      ],
      "metadata": {
        "id": "BnXyPPRpbjoW"
      },
      "execution_count": 17,
      "outputs": []
    },
    {
      "cell_type": "code",
      "source": [
        "# 11 roup and aggregate Data\n",
        "# group by FUNDING_MECHANISM and get mean, min, and max of TOTAL_COST\n",
        "grouped_funding_mechanism = df_subset.groupby('FUNDING_MECHANISM')['TOTAL_COST'].agg(['mean', 'min', 'max'])\n",
        "\n",
        "print(\"Grouped by FUNDING_MECHANISM:\")\n",
        "print(grouped_funding_mechanism)"
      ],
      "metadata": {
        "colab": {
          "base_uri": "https://localhost:8080/"
        },
        "id": "yl13hwhmbjmD",
        "outputId": "ea11623f-172d-4e37-b40a-07bd82e85bda"
      },
      "execution_count": 18,
      "outputs": [
        {
          "output_type": "stream",
          "name": "stdout",
          "text": [
            "Grouped by FUNDING_MECHANISM:\n",
            "                                 mean        min          max\n",
            "FUNDING_MECHANISM                                            \n",
            "CONSTRUCTION GRANTS      7.333256e+06  3999070.0    8000000.0\n",
            "NON SBIR/STTR CONTRACTS  2.623810e+06   100000.0  277585346.0\n",
            "NON-SBIR/STTR RPGS       5.945445e+05   100000.0   76222582.0\n",
            "OTHER RESEARCH-RELATED   4.284751e+05   100000.0   32364105.0\n",
            "OTHERS                   4.904551e+06   102263.0  417201451.0\n",
            "RESEARCH CENTERS         1.699834e+06   100000.0   16177759.0\n",
            "SBIR-STTR RPGS           6.588746e+05   100000.0    3235980.0\n",
            "SBIR/STTR CONTRACTS      8.654992e+05   298496.0    2999641.0\n",
            "TRAINING, INSTITUTIONAL  4.039998e+05   101309.0    3018783.0\n"
          ]
        }
      ]
    },
    {
      "cell_type": "code",
      "source": [
        "# 12 group by FUNDING_MECHANISM and FUNDING_ICs, then sort within groups\n",
        "grouped_multiple = df_subset.groupby(['FUNDING_MECHANISM', 'FUNDING_ICs'])['TOTAL_COST'].agg(['mean', 'min', 'max']).sort_values(by=['FUNDING_MECHANISM', 'mean'], ascending=[True, False])\n",
        "\n",
        "print(\"\\nGrouped by FUNDING_MECHANISM and FUNDING_ICs:\")\n",
        "print(grouped_multiple)"
      ],
      "metadata": {
        "colab": {
          "base_uri": "https://localhost:8080/"
        },
        "id": "cfFpHVICbjjm",
        "outputId": "5e2452b0-db71-4e27-96b3-52f39763c897"
      },
      "execution_count": 21,
      "outputs": [
        {
          "output_type": "stream",
          "name": "stdout",
          "text": [
            "\n",
            "Grouped by FUNDING_MECHANISM and FUNDING_ICs:\n",
            "                                                    mean        min        max\n",
            "FUNDING_MECHANISM       FUNDING_ICs                                           \n",
            "CONSTRUCTION GRANTS     OD:8000000\\            8000000.0  8000000.0  8000000.0\n",
            "                        OD:7999408\\            7999408.0  7999408.0  7999408.0\n",
            "                        OD:7996073\\            7996073.0  7996073.0  7996073.0\n",
            "                        OD:7916788\\            7916788.0  7916788.0  7916788.0\n",
            "                        OD:7897996\\            7897996.0  7897996.0  7897996.0\n",
            "...                                                  ...        ...        ...\n",
            "TRAINING, INSTITUTIONAL NIDDK:104282\\           104282.0   104282.0   104282.0\n",
            "                        NIA:102689\\             102689.0   102689.0   102689.0\n",
            "                        NIDDK:102689\\           102689.0   102689.0   102689.0\n",
            "                        NIDDK:101762\\           101762.0   101762.0   101762.0\n",
            "                        NCCIH:51309\\OD:50000\\   101309.0   101309.0   101309.0\n",
            "\n",
            "[52627 rows x 3 columns]\n"
          ]
        }
      ]
    },
    {
      "cell_type": "code",
      "source": [
        "# but the number of rows for this table is way too big, so limiting it to only FUNDING_ICs that are either AHRQ (agency for healthcare research and quality) and where the FUNDING_MECHANISM is \"OTHER RESEARCH-RELATED\".\n",
        "filtered_df_subset = df_subset[\n",
        "    (df_subset['FUNDING_ICs'].str.contains('AHRQ', na=False)) &\n",
        "    (df_subset['FUNDING_MECHANISM'] == 'OTHER RESEARCH-RELATED')\n",
        "]\n",
        "\n",
        "# also going to drop rows where TOTAL_COST is missing or zero\n",
        "filtered_df_subset = filtered_df_subset.dropna(subset=['TOTAL_COST'])\n",
        "filtered_df_subset = filtered_df_subset[filtered_df_subset['TOTAL_COST'] > 0]\n",
        "\n",
        "# groupby operation on the filtered DataFrame\n",
        "grouped_multiple = filtered_df_subset.groupby(['FUNDING_MECHANISM', 'FUNDING_ICs'])['TOTAL_COST'].agg(['mean', 'min', 'max']).sort_values(by=['FUNDING_MECHANISM', 'mean'], ascending=[True, False])\n",
        "\n",
        "print(grouped_multiple)"
      ],
      "metadata": {
        "colab": {
          "base_uri": "https://localhost:8080/"
        },
        "id": "a3id01yWfJ3D",
        "outputId": "716dda30-411a-48da-b0d3-3e7ef66796f9"
      },
      "execution_count": 34,
      "outputs": [
        {
          "output_type": "stream",
          "name": "stdout",
          "text": [
            "                                           mean        min        max\n",
            "FUNDING_MECHANISM      FUNDING_ICs                                   \n",
            "OTHER RESEARCH-RELATED AHRQ:1499998\\  1499998.0  1499998.0  1499998.0\n",
            "                       AHRQ:1467207\\  1467207.0  1467207.0  1467207.0\n",
            "                       AHRQ:1438873\\  1438873.0  1438873.0  1438873.0\n",
            "                       AHRQ:1431988\\  1431988.0  1431988.0  1431988.0\n",
            "                       AHRQ:1319988\\  1319988.0  1319988.0  1319988.0\n",
            "...                                         ...        ...        ...\n",
            "                       AHRQ:134933\\    134933.0   134933.0   134933.0\n",
            "                       AHRQ:125375\\    125375.0   125375.0   125375.0\n",
            "                       AHRQ:123617\\    123617.0   123617.0   123617.0\n",
            "                       AHRQ:123108\\    123108.0   123108.0   123108.0\n",
            "                       AHRQ:117992\\    117992.0   117992.0   117992.0\n",
            "\n",
            "[161 rows x 3 columns]\n"
          ]
        }
      ]
    },
    {
      "cell_type": "code",
      "source": [
        "# summary statistics of the TOTAL_COST stratified by FUNDING_ICs\n",
        "# filter the dataframe based on FUNDING_ICs and FUNDING_MECHANISM\n",
        "filtered_df_subset = df_subset[\n",
        "    (df_subset['FUNDING_ICs'].str.contains('AHRQ|FDA|NCI|NHLBI', na=False)) &\n",
        "    (df_subset['FUNDING_MECHANISM'] == \"OTHER RESEARCH-RELATED\")\n",
        "]\n",
        "\n",
        "# remove rows where TOTAL_COST is missing or zero\n",
        "filtered_df_subset = filtered_df_subset[\n",
        "    (filtered_df_subset['TOTAL_COST'].notna()) &\n",
        "    (filtered_df_subset['TOTAL_COST'] > 0)\n",
        "]\n",
        "\n",
        "# summary stats\n",
        "total_cost_summary = filtered_df_subset.groupby('FUNDING_ICs')['TOTAL_COST'].describe()\n",
        "\n",
        "print(total_cost_summary)"
      ],
      "metadata": {
        "colab": {
          "base_uri": "https://localhost:8080/"
        },
        "id": "U6T7jwXAbjhe",
        "outputId": "b35391eb-5135-4886-b3bf-98f0506499dd"
      },
      "execution_count": 36,
      "outputs": [
        {
          "output_type": "stream",
          "name": "stdout",
          "text": [
            "                                                 count       mean  std  \\\n",
            "FUNDING_ICs                                                              \n",
            "AHRQ:1000000\\                                      3.0  1000000.0  0.0   \n",
            "AHRQ:1008001\\                                      1.0  1008001.0  NaN   \n",
            "AHRQ:1040699\\                                      1.0  1040699.0  NaN   \n",
            "AHRQ:117992\\                                       1.0   117992.0  NaN   \n",
            "AHRQ:123108\\                                       1.0   123108.0  NaN   \n",
            "...                                                ...        ...  ...   \n",
            "NHLBI:820509\\                                      1.0   820509.0  NaN   \n",
            "NHLBI:83950\\OD:83950\\                              1.0   167900.0  NaN   \n",
            "NHLBI:917737\\                                      1.0   917737.0  NaN   \n",
            "NHLBI:922405\\NIDDK:62500\\NIMHD:62500\\OD:131250\\    1.0  1178655.0  NaN   \n",
            "NHLBI:928890\\                                      1.0   928890.0  NaN   \n",
            "\n",
            "                                                       min        25%  \\\n",
            "FUNDING_ICs                                                             \n",
            "AHRQ:1000000\\                                    1000000.0  1000000.0   \n",
            "AHRQ:1008001\\                                    1008001.0  1008001.0   \n",
            "AHRQ:1040699\\                                    1040699.0  1040699.0   \n",
            "AHRQ:117992\\                                      117992.0   117992.0   \n",
            "AHRQ:123108\\                                      123108.0   123108.0   \n",
            "...                                                    ...        ...   \n",
            "NHLBI:820509\\                                     820509.0   820509.0   \n",
            "NHLBI:83950\\OD:83950\\                             167900.0   167900.0   \n",
            "NHLBI:917737\\                                     917737.0   917737.0   \n",
            "NHLBI:922405\\NIDDK:62500\\NIMHD:62500\\OD:131250\\  1178655.0  1178655.0   \n",
            "NHLBI:928890\\                                     928890.0   928890.0   \n",
            "\n",
            "                                                       50%        75%  \\\n",
            "FUNDING_ICs                                                             \n",
            "AHRQ:1000000\\                                    1000000.0  1000000.0   \n",
            "AHRQ:1008001\\                                    1008001.0  1008001.0   \n",
            "AHRQ:1040699\\                                    1040699.0  1040699.0   \n",
            "AHRQ:117992\\                                      117992.0   117992.0   \n",
            "AHRQ:123108\\                                      123108.0   123108.0   \n",
            "...                                                    ...        ...   \n",
            "NHLBI:820509\\                                     820509.0   820509.0   \n",
            "NHLBI:83950\\OD:83950\\                             167900.0   167900.0   \n",
            "NHLBI:917737\\                                     917737.0   917737.0   \n",
            "NHLBI:922405\\NIDDK:62500\\NIMHD:62500\\OD:131250\\  1178655.0  1178655.0   \n",
            "NHLBI:928890\\                                     928890.0   928890.0   \n",
            "\n",
            "                                                       max  \n",
            "FUNDING_ICs                                                 \n",
            "AHRQ:1000000\\                                    1000000.0  \n",
            "AHRQ:1008001\\                                    1008001.0  \n",
            "AHRQ:1040699\\                                    1040699.0  \n",
            "AHRQ:117992\\                                      117992.0  \n",
            "AHRQ:123108\\                                      123108.0  \n",
            "...                                                    ...  \n",
            "NHLBI:820509\\                                     820509.0  \n",
            "NHLBI:83950\\OD:83950\\                             167900.0  \n",
            "NHLBI:917737\\                                     917737.0  \n",
            "NHLBI:922405\\NIDDK:62500\\NIMHD:62500\\OD:131250\\  1178655.0  \n",
            "NHLBI:928890\\                                     928890.0  \n",
            "\n",
            "[1864 rows x 8 columns]\n"
          ]
        }
      ]
    },
    {
      "cell_type": "code",
      "source": [
        "# There are many FUNDING_ICs that contain AHRQ, and same for others. I want to group all of the FUNDING_ICs that contain AHRQ, and same for the others\n",
        "\n",
        "# a new column for the categorized FUNDING_ICs\n",
        "def categorize_funding_ics(value):\n",
        "    if 'AHRQ' in value:\n",
        "        return 'AHRQ'\n",
        "    elif 'FDA' in value:\n",
        "        return 'FDA'\n",
        "    elif 'NCI' in value:\n",
        "        return 'NCI'\n",
        "    elif 'NHLBI' in value:\n",
        "        return 'NHLBI'\n",
        "    else:\n",
        "        return 'Other'\n",
        "\n",
        "# function to create a new column\n",
        "filtered_df_subset['FUNDING_ICs_GROUP'] = filtered_df_subset['FUNDING_ICs'].apply(categorize_funding_ics)\n",
        "\n",
        "# filter based on FUNDING_MECHANISM being \"OTHER RESEARCH-RELATED\"\n",
        "filtered_df_subset = filtered_df_subset[filtered_df_subset['FUNDING_MECHANISM'] == \"OTHER RESEARCH-RELATED\"]\n",
        "\n",
        "# again removing rows where TOTAL_COST is missing or zero\n",
        "filtered_df_subset = filtered_df_subset[\n",
        "    (filtered_df_subset['TOTAL_COST'].notna()) &\n",
        "    (filtered_df_subset['TOTAL_COST'] > 0)\n",
        "]\n",
        "\n",
        "# summary statistics of TOTAL_COST, stratified by the new FUNDING_ICs_GROUP\n",
        "total_cost_summary_grouped = filtered_df_subset.groupby('FUNDING_ICs_GROUP')['TOTAL_COST'].describe()\n",
        "\n",
        "print(total_cost_summary_grouped)"
      ],
      "metadata": {
        "colab": {
          "base_uri": "https://localhost:8080/"
        },
        "id": "RCG8_e83bjer",
        "outputId": "ad1f9ab8-bc31-4a74-b652-51afb2ab1978"
      },
      "execution_count": 37,
      "outputs": [
        {
          "output_type": "stream",
          "name": "stdout",
          "text": [
            "                   count           mean           std       min        25%  \\\n",
            "FUNDING_ICs_GROUP                                                            \n",
            "AHRQ               177.0  469771.090395  3.392649e+05  117992.0  152480.00   \n",
            "FDA                 58.0  835089.758621  2.062949e+06  100000.0  204982.25   \n",
            "NCI                872.0  734962.239679  1.596621e+06  100000.0  187002.00   \n",
            "NHLBI              960.0  221736.679167  3.195238e+05  100000.0  149006.25   \n",
            "\n",
            "                        50%        75%         max  \n",
            "FUNDING_ICs_GROUP                                   \n",
            "AHRQ               398921.0  500000.00   1499998.0  \n",
            "FDA                369922.0  593611.25  15636891.0  \n",
            "NCI                260796.0  675759.50  18423048.0  \n",
            "NHLBI              167146.0  187059.75   5695000.0  \n"
          ]
        }
      ]
    },
    {
      "cell_type": "markdown",
      "metadata": {
        "id": "tujjevRpXEen"
      },
      "source": [
        "# Conclusions  \n",
        "\n",
        "After exploring your dataset, provide a short summary of what you noticed from this dataset.  What would you explore further with more time?"
      ]
    },
    {
      "cell_type": "markdown",
      "source": [
        "This is a very nice dataset that I am personally very interested in. As someone who has applied to the NIH before, and who plans to submit more grant proposals to all of the NIH (NCI and NHLBI) as well as AHRQ, I find this exercise super helpful.\n",
        "\n",
        "I think there are certain quirks to handle when working on this dataset. For example, the same funding institute has several labels which makes it difficult to stratify by. This is why I had to group together all of the FUNDING_ICs that contain AHRQ (as well as others).\n",
        "\n",
        "Also, from the last descriptive statistical analysis regarding the total amount of the grant stratified by FUNDING_ICs_Group, it looks like AHRQ gives out the largest grants since the median is highest, followied by the FDA, NCI, and NHLBI. However, there are certainly some outliers since the mean tells a different story with the order being FDA > NCI > AHRQ > NHLBI. The median is more accurate to get a better idea given this skewed distribution.\n",
        "\n"
      ],
      "metadata": {
        "id": "wf_j6vTxhzrs"
      }
    },
    {
      "cell_type": "code",
      "execution_count": null,
      "metadata": {
        "id": "SshtuQj9XR5_"
      },
      "outputs": [],
      "source": []
    }
  ],
  "metadata": {
    "colab": {
      "provenance": [],
      "include_colab_link": true
    },
    "kernelspec": {
      "display_name": "Python 3 (ipykernel)",
      "language": "python",
      "name": "python3"
    },
    "language_info": {
      "codemirror_mode": {
        "name": "ipython",
        "version": 3
      },
      "file_extension": ".py",
      "mimetype": "text/x-python",
      "name": "python",
      "nbconvert_exporter": "python",
      "pygments_lexer": "ipython3",
      "version": "3.11.7"
    }
  },
  "nbformat": 4,
  "nbformat_minor": 0
}